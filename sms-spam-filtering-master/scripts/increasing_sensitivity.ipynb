{
 "cells": [
  {
   "cell_type": "markdown",
   "metadata": {},
   "source": [
    "# Spam Filtering Techniques for Short Message Service\n",
    "## EPFL - Adaptation and Learning (EE-621) \n",
    "## Adrien Besson and Dimitris Perdios"
   ]
  },
  {
   "cell_type": "markdown",
   "metadata": {
    "collapsed": true
   },
   "source": [
    "We assume that the reader has already gone through the python notebook `example_classifier.ipynb`.\n",
    "As before, we focus on the logistic regression but the process can be applied to any other classifier.\n",
    "\n",
    "From the results described in `example_classifier.ipynb`, we have an asymmetry in the values of the sensitivity and specificity.\n",
    "This is due to the fact that we train the classifiers on a symmetric loss (misclassification error) or using a threshold of 0.5 for our Bayes estimator.\n",
    "\n",
    "In this notebook, we explore two resampling methods that can be used to increase the sensitivity."
   ]
  },
  {
   "cell_type": "code",
   "execution_count": 1,
   "metadata": {
    "collapsed": true
   },
   "outputs": [],
   "source": [
    "# Import libraries\n",
    "import pandas as pd\n",
    "import numpy as np\n",
    "from sklearn.model_selection import train_test_split, GridSearchCV\n",
    "from sklearn.feature_extraction.text import CountVectorizer, TfidfTransformer\n",
    "from sklearn.metrics import confusion_matrix\n",
    "import sklearn.linear_model as lm\n",
    "from sklearn.utils import resample, shuffle\n",
    "import utils as ut\n",
    "import matplotlib.pyplot as plt\n",
    "import os"
   ]
  },
  {
   "cell_type": "markdown",
   "metadata": {},
   "source": [
    "As usual, we first load and preprocess the data"
   ]
  },
  {
   "cell_type": "code",
   "execution_count": 2,
   "metadata": {
    "collapsed": true
   },
   "outputs": [],
   "source": [
    "# Load dataset\n",
    "input_file = os.path.join(os.pardir, 'datasets', 'spam.csv')\n",
    "data = pd.read_csv(input_file, encoding='latin_1', usecols=[0, 1])\n",
    "\n",
    "# Rename the columns with more explicit names\n",
    "data.rename(columns={'v1' : 'label', 'v2' : 'message'}, inplace=True)\n",
    "\n",
    "# Convert labels into 0 and 1\n",
    "data['class'] = data.label.map({'ham':0, 'spam':1})\n"
   ]
  },
  {
   "cell_type": "markdown",
   "metadata": {},
   "source": [
    "We split the dataset into a training set and a test set using a 80/20 split"
   ]
  },
  {
   "cell_type": "code",
   "execution_count": 3,
   "metadata": {
    "collapsed": true
   },
   "outputs": [],
   "source": [
    "# Create a training set and a test set\n",
    "train, test = train_test_split(data, train_size=0.8, test_size=0.2, random_state=10)"
   ]
  },
  {
   "cell_type": "markdown",
   "metadata": {},
   "source": [
    "### 1. Downsampling of the majority class\n",
    "We downsample the majority by randomly selecting some of the entries, in such a way that we have a perfectly balanced dataset."
   ]
  },
  {
   "cell_type": "code",
   "execution_count": 4,
   "metadata": {
    "collapsed": true
   },
   "outputs": [],
   "source": [
    "# Number of spams and hams in the training set\n",
    "n_hams, n_spams = train['class'].value_counts()\n",
    "\n",
    "# Downsample the training set\n",
    "train_ham = train.loc[train['label'] == 'ham']\n",
    "train_spam = train.loc[train['label'] == 'spam']\n",
    "train_ham_ds = train_ham.sample(n_spams, axis=0)\n",
    "train_ds = pd.concat([train_ham_ds, train_spam])\n",
    "\n",
    "# Reshuffle the new training set\n",
    "train_ds = shuffle(train_ds)\n",
    "\n",
    "# Create a CountVectorizer Object\n",
    "vectorizer = CountVectorizer(encoding='latin-1', stop_words='english')\n",
    "\n",
    "# Fit the vectorizer object\n",
    "X_train = vectorizer.fit_transform(train_ds['message'])\n",
    "\n",
    "# Transform the test set\n",
    "X_test = vectorizer.transform(test['message'])\n",
    "\n",
    "# Create a TfIdf Transformer object\n",
    "transformer = TfidfTransformer(norm='l2', use_idf=True, smooth_idf=True, sublinear_tf=False)\n",
    "\n",
    "# Fit the model to the training set\n",
    "features_train = transformer.fit_transform(X_train)\n",
    "\n",
    "# Transform the test set\n",
    "features_test = transformer.transform(X_test)\n",
    "\n",
    "# Create labels\n",
    "labels_train = train_ds['class']\n",
    "labels_test = test['class']"
   ]
  },
  {
   "cell_type": "markdown",
   "metadata": {},
   "source": [
    "We fit the regularized logistic regression classifier"
   ]
  },
  {
   "cell_type": "code",
   "execution_count": 5,
   "metadata": {},
   "outputs": [
    {
     "name": "stdout",
     "output_type": "stream",
     "text": [
      "Misclassification error: 2.8699551569506765 %\n"
     ]
    }
   ],
   "source": [
    "# Create the logistic regression model\n",
    "lrl2  = lm.LogisticRegression(penalty='l2', solver='liblinear', random_state=10)\n",
    "\n",
    "# Create the 10-fold cross-validation model\n",
    "gs_steps = 10\n",
    "n_jobs = -1\n",
    "cv=10\n",
    "lr_param = {'C': np.logspace(-4, 9, gs_steps)}\n",
    "lrl2_gscv = GridSearchCV(lrl2, lr_param, cv=10, n_jobs=n_jobs)\n",
    "\n",
    "# Fit the cross-validation model\n",
    "lrl2_gscv.fit(X=features_train, y=labels_train)\n",
    "score_lrl2 = lrl2_gscv.score(X=features_test, y=labels_test)\n",
    "print('Misclassification error: {0} %'.format((1-score_lrl2)*100))"
   ]
  },
  {
   "cell_type": "markdown",
   "metadata": {},
   "source": [
    "We also plot the confusion matrix to analyze the effect on the sensitivity"
   ]
  },
  {
   "cell_type": "code",
   "execution_count": 6,
   "metadata": {},
   "outputs": [
    {
     "data": {
      "image/png": "[encoded data removed]",
      "text/plain": [
       "<Figure size 432x288 with 1 Axes>"
      ]
     },
     "metadata": {},
     "output_type": "display_data"
    },
    {
     "name": "stdout",
     "output_type": "stream",
     "text": [
      "Sensitivity: 0.953 \n",
      "Specificity: 0.974\n"
     ]
    }
   ],
   "source": [
    "# Compute the confusion matrix\n",
    "preds_test = lrl2_gscv.best_estimator_.predict(features_test)\n",
    "cm = confusion_matrix(y_true=labels_test, y_pred=preds_test)\n",
    "cm = cm / cm.sum(axis=1)[:, np.newaxis]\n",
    "\n",
    "# Display the confusion matrix\n",
    "classes = ['ham', 'spam']\n",
    "digits = 3\n",
    "ut.plot_confusion_matrix(cm, classes=classes, digits=digits)\n",
    "plt.show()\n",
    "\n",
    "# Show sensitivity and specificity\n",
    "specificity = cm[0, 0] / np.sum(cm[0])\n",
    "sensitivity = cm[1, 1] / np.sum(cm[1])\n",
    "print('Sensitivity: {0:.3f} \\nSpecificity: {1:.3f}'.format(sensitivity, specificity))"
   ]
  },
  {
   "cell_type": "markdown",
   "metadata": {},
   "source": [
    "The value of the sensitivity has been significantly increased!\n",
    "But the price to pay is a significantly lower specificity."
   ]
  },
  {
   "cell_type": "markdown",
   "metadata": {},
   "source": [
    "### 2. Upsampling the minority class\n",
    "\n",
    "A more intelligent idea may consist in upsampling the minority class.\n",
    "There exist many heuristicts to do to that.\n",
    "We test a very simple one: we randomly (with replacement) select elements of the minority class that we duplicate until the two classes have the same number of elements."
   ]
  },
  {
   "cell_type": "code",
   "execution_count": 7,
   "metadata": {
    "collapsed": true
   },
   "outputs": [],
   "source": [
    "# Upsample the minority class\n",
    "train_ham = train.loc[train['label'] == 'ham']\n",
    "train_spam = train.loc[train['label'] == 'spam']\n",
    "train_spam_up = resample(train_spam, replace=True, n_samples=n_hams, random_state=10)\n",
    "train_up = pd.concat([train_ham, train_spam_up])\n",
    "\n",
    "# Reshuffle the new training set\n",
    "train_up = shuffle(train_up)\n",
    "\n",
    "# Create a CountVectorizer Object\n",
    "vectorizer = CountVectorizer(encoding='latin-1', stop_words='english') \n",
    "\n",
    "# Fit the vectorizer object\n",
    "X_train = vectorizer.fit_transform(train_up['message'])\n",
    "\n",
    "# Transform the test set\n",
    "X_test = vectorizer.transform(test['message'])\n",
    "\n",
    "# Create a TfIdf Transformer object\n",
    "transformer = TfidfTransformer(norm='l2', use_idf=True, smooth_idf=True, sublinear_tf=False)\n",
    "\n",
    "# Fit the model to the training set\n",
    "features_train = transformer.fit_transform(X_train)\n",
    "\n",
    "# Transform the test set\n",
    "features_test = transformer.transform(X_test)\n",
    "\n",
    "# Create labels\n",
    "labels_train = train_up['class']\n",
    "labels_test = test['class']"
   ]
  },
  {
   "cell_type": "markdown",
   "metadata": {},
   "source": [
    "We again fit the regularized logistic regression on the augmented training set"
   ]
  },
  {
   "cell_type": "code",
   "execution_count": 8,
   "metadata": {},
   "outputs": [
    {
     "name": "stdout",
     "output_type": "stream",
     "text": [
      "Misclassification error: 1.255605381165914 %\n"
     ]
    }
   ],
   "source": [
    "# Create the logistic regression model\n",
    "lrl2  = lm.LogisticRegression(penalty='l2', solver='liblinear', random_state=10)\n",
    "\n",
    "# Create the 10-fold cross-validation model\n",
    "gs_steps = 10\n",
    "n_jobs = -1\n",
    "cv=10\n",
    "lr_param = {'C': np.logspace(-4, 9, gs_steps)}\n",
    "lrl2_gscv = GridSearchCV(lrl2, lr_param, cv=10, n_jobs=n_jobs)\n",
    "\n",
    "# Fit the cross-validation model\n",
    "lrl2_gscv.fit(X=features_train, y=labels_train)\n",
    "score_lrl2 = lrl2_gscv.score(X=features_test, y=labels_test)\n",
    "print('Misclassification error: {0} %'.format((1-score_lrl2)*100))"
   ]
  },
  {
   "cell_type": "markdown",
   "metadata": {},
   "source": [
    "We plot the associated confusion matrix"
   ]
  },
  {
   "cell_type": "code",
   "execution_count": 9,
   "metadata": {},
   "outputs": [
    {
     "data": {
      "image/png": "[encoded data removed]",
      "text/plain": [
       "<Figure size 432x288 with 1 Axes>"
      ]
     },
     "metadata": {},
     "output_type": "display_data"
    },
    {
     "name": "stdout",
     "output_type": "stream",
     "text": [
      "Sensitivity: 0.920 \n",
      "Specificity: 0.998\n"
     ]
    }
   ],
   "source": [
    "# Compute the confusion matrix\n",
    "preds_test = lrl2_gscv.best_estimator_.predict(features_test)\n",
    "cm = confusion_matrix(y_true=labels_test, y_pred=preds_test)\n",
    "cm = cm / cm.sum(axis=1)[:, np.newaxis]\n",
    "\n",
    "# Display the confusion matrix\n",
    "classes = ['ham', 'spam']\n",
    "digits = 3\n",
    "ut.plot_confusion_matrix(cm, classes=classes, digits=digits)\n",
    "plt.show()\n",
    "\n",
    "# Show sensitivity and specificity\n",
    "specificity = cm[0, 0] / np.sum(cm[0])\n",
    "sensitivity = cm[1, 1] / np.sum(cm[1])\n",
    "print('Sensitivity: {0:.3f} \\nSpecificity: {1:.3f}'.format(sensitivity, specificity))"
   ]
  },
  {
   "cell_type": "markdown",
   "metadata": {},
   "source": [
    "It can be seen that the sensitivity is slightly increased with the upsampling method. "
   ]
  }
 ],
 "metadata": {
  "kernelspec": {
   "display_name": "Python 3",
   "language": "python",
   "name": "python3"
  },
  "language_info": {
   "codemirror_mode": {
    "name": "ipython",
    "version": 3
   },
   "file_extension": ".py",
   "mimetype": "text/x-python",
   "name": "python",
   "nbconvert_exporter": "python",
   "pygments_lexer": "ipython3",
   "version": "3.6.5"
  }
 },
 "nbformat": 4,
 "nbformat_minor": 2
}
