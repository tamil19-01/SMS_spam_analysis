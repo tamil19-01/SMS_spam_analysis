{
 "cells": [
  {
   "cell_type": "markdown",
   "metadata": {},
   "source": [
    "# Spam Filtering Techniques for Short Message Service\n",
    "## EPFL - Adaptation and Learning (EE-621) \n",
    "## Adrien Besson and Dimitris Perdios"
   ]
  },
  {
   "cell_type": "markdown",
   "metadata": {
    "collapsed": true
   },
   "source": [
    "This notebook illustrates the process used to train and test a classifier for spam filtering.\n",
    "We focus on logistic regression but the script can be easily adapted to any other classifier."
   ]
  },
  {
   "cell_type": "code",
   "execution_count": 1,
   "metadata": {
    "collapsed": true
   },
   "outputs": [],
   "source": [
    "# Import libraries\n",
    "import pandas as pd\n",
    "import numpy as np\n",
    "from sklearn.model_selection import train_test_split, GridSearchCV\n",
    "from sklearn.feature_extraction.text import CountVectorizer, TfidfTransformer\n",
    "from sklearn.metrics import confusion_matrix\n",
    "import sklearn.linear_model as lm\n",
    "import utils as ut\n",
    "import matplotlib.pyplot as plt\n",
    "import os"
   ]
  },
  {
   "cell_type": "markdown",
   "metadata": {},
   "source": [
    "[sklearn feature extraction from text]: http://scikit-learn.org/stable/modules/feature_extraction.html#text-feature-extraction \n",
    "[tf-idf]:https://en.wikipedia.org/wiki/Tf%E2%80%93idf \n",
    "[bag-of-words]:https://en.wikipedia.org/wiki/Bag-of-words_model\n",
    "\n",
    "### 1.  Feature extraction\n",
    "\n",
    "In the feature extraction process, we use the [bag-of-words] model followed by term-frequency inverse-document-frequency ([tf-idf]) weighting which are standard in natural language processing.\n",
    "They are well documented on the [sklearn feature extraction from text] page."
   ]
  },
  {
   "cell_type": "code",
   "execution_count": 2,
   "metadata": {
    "collapsed": true
   },
   "outputs": [],
   "source": [
    "# Load dataset\n",
    "input_file = os.path.join(os.pardir, 'datasets', 'spam.csv')\n",
    "data = pd.read_csv(input_file, encoding='latin_1', usecols=[0, 1])\n",
    "\n",
    "# Rename the columns with more explicit names\n",
    "data.rename(columns={'v1' : 'label', 'v2' : 'message'}, inplace=True)\n",
    "\n",
    "# Convert labels into 0 and 1\n",
    "data['class'] = data.label.map({'ham':0, 'spam':1})"
   ]
  },
  {
   "cell_type": "markdown",
   "metadata": {
    "collapsed": true
   },
   "source": [
    "We split the dataset into a training and a test set, with a 80/20 split"
   ]
  },
  {
   "cell_type": "code",
   "execution_count": 3,
   "metadata": {
    "collapsed": true
   },
   "outputs": [],
   "source": [
    "# Create a training set and a test set\n",
    "train, test = train_test_split(data, train_size=0.8, test_size=0.2, random_state=10)"
   ]
  },
  {
   "cell_type": "markdown",
   "metadata": {
    "collapsed": true
   },
   "source": [
    "We extract the matrix of occurences using the [CountVectorizer] class of [sklearn].\n",
    "Once the vectrorizer is created, we fit the model on the training set and use it to transform the test set.\n",
    "During the fitting step of the model, a vocabulary is learned from the training set.\n",
    "\n",
    "[CountVectorizer]: http://scikit-learn.org/stable/modules/generated/sklearn.feature_extraction.text.CountVectorizer.html\n",
    "[sklearn]: http://scikit-learn.org/stable/"
   ]
  },
  {
   "cell_type": "code",
   "execution_count": 4,
   "metadata": {
    "collapsed": true
   },
   "outputs": [],
   "source": [
    "# Create a CountVectorizer Object\n",
    "vectorizer = CountVectorizer(encoding='latin-1', stop_words='english') # stop_words = english removes the main stop words (may be it can be good to test it)\n",
    "\n",
    "# Fit the vectorizer object\n",
    "X_train = vectorizer.fit_transform(train['message'])\n",
    "\n",
    "# Transform the test set\n",
    "X_test = vectorizer.transform(test['message'])"
   ]
  },
  {
   "cell_type": "markdown",
   "metadata": {
    "collapsed": true
   },
   "source": [
    "We apply tf-idf weighting using the [TfidfTransformer] of sklearn. Again we create the object, fit on the training set and transform the test set.\n",
    "\n",
    "[TfidfTransformer]: http://scikit-learn.org/stable/modules/generated/sklearn.feature_extraction.text.TfidfTransformer.html"
   ]
  },
  {
   "cell_type": "code",
   "execution_count": 5,
   "metadata": {
    "collapsed": true
   },
   "outputs": [],
   "source": [
    "# Create a TfIdf Transformer object\n",
    "transformer = TfidfTransformer(norm='l2', use_idf=True, smooth_idf=True, sublinear_tf=False)\n",
    "\n",
    "# Fit the model to the training set\n",
    "features_train = transformer.fit_transform(X_train)\n",
    "\n",
    "# Transform the test set\n",
    "features_test = transformer.transform(X_test)\n",
    "\n",
    "# Create labels\n",
    "labels_train = train['class']\n",
    "labels_test = test['class']"
   ]
  },
  {
   "cell_type": "markdown",
   "metadata": {},
   "source": [
    "### 2. Fitting and testing the model\n",
    "\n",
    "To fit the model, we again rely on sklearn. The best hyper-parameters are identified using 10-fold cross validation on the training set and the misclassification error is then calculated on the test set."
   ]
  },
  {
   "cell_type": "code",
   "execution_count": 6,
   "metadata": {},
   "outputs": [
    {
     "name": "stdout",
     "output_type": "stream",
     "text": [
      "Misclassification error: 1.4349775784753382 %\n"
     ]
    }
   ],
   "source": [
    "# Create the logistic regression model\n",
    "lrl2  = lm.LogisticRegression(penalty='l2', solver='liblinear', random_state=10)\n",
    "\n",
    "# Create the 10-fold cross-validation model\n",
    "gs_steps = 10\n",
    "n_jobs = -1\n",
    "cv=10\n",
    "lr_param = {'C': np.logspace(-4, 9, gs_steps)}\n",
    "lrl2_gscv = GridSearchCV(lrl2, lr_param, cv=10, n_jobs=n_jobs)\n",
    "\n",
    "# Fit the cross-validation model\n",
    "lrl2_gscv.fit(X=features_train, y=labels_train)\n",
    "score_lrl2 = lrl2_gscv.score(X=features_test, y=labels_test)\n",
    "print('Misclassification error: {0} %'.format((1-score_lrl2)*100))"
   ]
  },
  {
   "cell_type": "markdown",
   "metadata": {},
   "source": [
    "### 3. Confusion matrix\n",
    "Confusion matrices are useful to analyze the sensitivity/specificity of a classifier.\n",
    "In our case, it is of great interest since the dataset is imbalanced.\n",
    "Here is a script that plots the confusion matrix of the proposed regularized logistic regression classifier."
   ]
  },
  {
   "cell_type": "code",
   "execution_count": 7,
   "metadata": {},
   "outputs": [
    {
     "data": {
      "image/png": "[encoded data removed]",
      "text/plain": [
       "<Figure size 432x288 with 1 Axes>"
      ]
     },
     "metadata": {},
     "output_type": "display_data"
    },
    {
     "name": "stdout",
     "output_type": "stream",
     "text": [
      "Sensitivity: 0.913 \n",
      "Specificity: 0.997\n"
     ]
    }
   ],
   "source": [
    "# Compute the confusion matrix\n",
    "preds_test = lrl2_gscv.best_estimator_.predict(features_test)\n",
    "cm = confusion_matrix(y_true=labels_test, y_pred=preds_test)\n",
    "cm = cm / cm.sum(axis=1)[:, np.newaxis]\n",
    "\n",
    "# Display the confusion matrix\n",
    "classes = ['ham', 'spam']\n",
    "digits = 3\n",
    "ut.plot_confusion_matrix(cm, classes=classes, digits=digits)\n",
    "plt.show()\n",
    "\n",
    "# Show sensitivity and specificity\n",
    "specificity = cm[0, 0] / np.sum(cm[0])\n",
    "sensitivity = cm[1, 1] / np.sum(cm[1])\n",
    "print('Sensitivity: {0:.3f} \\nSpecificity: {1:.3f}'.format(sensitivity, specificity))"
   ]
  }
 ],
 "metadata": {
  "kernelspec": {
   "display_name": "Python 3",
   "language": "python",
   "name": "python3"
  },
  "language_info": {
   "codemirror_mode": {
    "name": "ipython",
    "version": 3
   },
   "file_extension": ".py",
   "mimetype": "text/x-python",
   "name": "python",
   "nbconvert_exporter": "python",
   "pygments_lexer": "ipython3",
   "version": "3.6.5"
  }
 },
 "nbformat": 4,
 "nbformat_minor": 2
}
